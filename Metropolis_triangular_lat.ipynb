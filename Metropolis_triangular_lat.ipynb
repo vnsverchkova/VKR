{
  "nbformat": 4,
  "nbformat_minor": 0,
  "metadata": {
    "colab": {
      "name": "Metropolis_triangular_lat.ipynb",
      "provenance": [],
      "collapsed_sections": []
    },
    "kernelspec": {
      "name": "python3",
      "display_name": "Python 3"
    }
  },
  "cells": [
    {
      "cell_type": "code",
      "metadata": {
        "id": "hFm9I01t19bD"
      },
      "source": [
        "import numpy as np\n",
        "import matplotlib.pyplot as plt\n",
        "import random, math"
      ],
      "execution_count": 1,
      "outputs": []
    },
    {
      "cell_type": "code",
      "metadata": {
        "id": "vQBcmkIkqUg4"
      },
      "source": [
        "# L х L - размер решетки\n",
        "# T - температура\n",
        "# J, Jd - коэффициенты из гамильтониана \n",
        "\n",
        "def frustrated_mod(L,T,J,Jd):\n",
        "\n",
        "  N = L * L\n",
        "  nbr = {i : ((i // L) * L + (i + 1) % L, (i + L) % N,\n",
        "            (i // L) * L + (i - 1) % L, (i - L) % N) \\\n",
        "                                    for i in range(N)}\n",
        "  dnbr = {i : ((i + L + 1) % N,\n",
        "            (i - L - 1) % N) \\\n",
        "         for i in range(N)}\n",
        "\n",
        "  nsteps = 1000000\n",
        "  beta = 1.0 / T\n",
        "\n",
        "  S = [random.choice([1, -1]) for k in range(N)]\n",
        "\n",
        "  for step in range(nsteps):\n",
        "    k = random.randint(0, N - 1)\n",
        "    delta_E = 2.0 * J * S[k] * sum(S[nn] for nn in nbr[k]) + 2.0 * Jd * S[k] * sum(S[nn] for nn in dnbr[k])\n",
        "    if random.uniform(0.0, 1.0) < math.exp(-beta * delta_E):\n",
        "      S[k] *= -1\n",
        "  return S"
      ],
      "execution_count": 35,
      "outputs": []
    },
    {
      "cell_type": "code",
      "metadata": {
        "id": "3sD3mhf7rgBA"
      },
      "source": [
        "S =frustrated_mod(100, 1.0, 1, -1)"
      ],
      "execution_count": 38,
      "outputs": []
    },
    {
      "cell_type": "code",
      "metadata": {
        "colab": {
          "base_uri": "https://localhost:8080/",
          "height": 292
        },
        "id": "zpSfYoIXinNj",
        "outputId": "1d6d4383-ec98-48d1-a72f-8b2801b4b016"
      },
      "source": [
        "R = np.reshape(S,(L,L)) \n",
        "plt.matshow(R, cmap = 'Greys')"
      ],
      "execution_count": 39,
      "outputs": [
        {
          "output_type": "execute_result",
          "data": {
            "text/plain": [
              "<matplotlib.image.AxesImage at 0x7f9a1e6c6f98>"
            ]
          },
          "metadata": {
            "tags": []
          },
          "execution_count": 39
        },
        {
          "output_type": "display_data",
          "data": {
            "image/png": "[encoded data removed]",
            "text/plain": [
              "<Figure size 288x288 with 1 Axes>"
            ]
          },
          "metadata": {
            "tags": [],
            "needs_background": "light"
          }
        }
      ]
    },
    {
      "cell_type": "code",
      "metadata": {
        "colab": {
          "base_uri": "https://localhost:8080/",
          "height": 292
        },
        "id": "kad6Gb8XqHN6",
        "outputId": "3a3b401a-6cd5-4deb-cb88-c81a69048a5b"
      },
      "source": [
        "R = np.reshape(S,(L,L))\n",
        "plt.matshow(R, cmap = 'Greys')"
      ],
      "execution_count": 32,
      "outputs": [
        {
          "output_type": "execute_result",
          "data": {
            "text/plain": [
              "<matplotlib.image.AxesImage at 0x7f9a1e247cf8>"
            ]
          },
          "metadata": {
            "tags": []
          },
          "execution_count": 32
        },
        {
          "output_type": "display_data",
          "data": {
            "image/png": "[encoded data removed]",
            "text/plain": [
              "<Figure size 288x288 with 1 Axes>"
            ]
          },
          "metadata": {
            "tags": [],
            "needs_background": "light"
          }
        }
      ]
    },
    {
      "cell_type": "code",
      "metadata": {
        "colab": {
          "base_uri": "https://localhost:8080/",
          "height": 292
        },
        "id": "_B7uyepIqNvD",
        "outputId": "c826e35e-f315-4150-9ce3-0ecc0ebb994c"
      },
      "source": [
        "R = np.reshape(S,(L,L))\n",
        "plt.matshow(R, cmap = 'Greys')"
      ],
      "execution_count": 34,
      "outputs": [
        {
          "output_type": "execute_result",
          "data": {
            "text/plain": [
              "<matplotlib.image.AxesImage at 0x7f9a1e720518>"
            ]
          },
          "metadata": {
            "tags": []
          },
          "execution_count": 34
        },
        {
          "output_type": "display_data",
          "data": {
            "image/png": "[encoded data removed]",
            "text/plain": [
              "<Figure size 288x288 with 1 Axes>"
            ]
          },
          "metadata": {
            "tags": [],
            "needs_background": "light"
          }
        }
      ]
    }
  ]
}