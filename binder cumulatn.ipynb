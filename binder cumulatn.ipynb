{
 "cells": [
  {
   "cell_type": "code",
   "execution_count": 1,
   "metadata": {},
   "outputs": [],
   "source": [
    "%load_ext cython"
   ]
  },
  {
   "cell_type": "code",
   "execution_count": 2,
   "metadata": {},
   "outputs": [],
   "source": [
    "import matplotlib.pyplot as plt\n",
    "import math\n",
    "import numpy as np"
   ]
  },
  {
   "cell_type": "code",
   "execution_count": 3,
   "metadata": {},
   "outputs": [],
   "source": [
    "from tqdm import tqdm"
   ]
  },
  {
   "cell_type": "code",
   "execution_count": 4,
   "metadata": {},
   "outputs": [],
   "source": [
    "%%cython -+ \n",
    "cimport cython\n",
    "import numpy as np\n",
    "cimport numpy as np\n",
    "\n",
    "from libc.math cimport exp, tanh\n",
    "from mc_lib.rndm cimport RndmWrapper\n",
    "from mc_lib.lattices import tabulate_neighbors\n",
    "from mc_lib.observable cimport RealObservable\n",
    "    \n",
    "cdef void init_spins(long[::1] spins, RndmWrapper rndm): \n",
    "    \n",
    "    for j in range(spins.shape[0]):\n",
    "        spins[j] = 1 if rndm.uniform() > 0.5 else -1\n",
    "        \n",
    "        \n",
    "        \n",
    "@cython.boundscheck(False)\n",
    "@cython.wraparound(False)\n",
    "cdef double energy(long[::1] spins, \n",
    "                   long[:, ::1] neighbors,\n",
    "                  const double[:,::1] Js):\n",
    "\n",
    "    cdef:\n",
    "        double ene = 0.0\n",
    "        Py_ssize_t site, site1, num_neighb\n",
    "\n",
    "    for site in range(spins.shape[0]):\n",
    "        num_neighb = neighbors[site, 0]\n",
    "        for j in range(1, num_neighb+1):\n",
    "            site1 = neighbors[site, j]\n",
    "            ene += -1 * Js[site, site1] * spins[site] * spins[site1] \n",
    "    \n",
    "    return ene / 2.0\n",
    "\n",
    "\n",
    "\n",
    "@cython.boundscheck(False)\n",
    "@cython.wraparound(False)\n",
    "cdef void flip_spin(long[::1] spins, \n",
    "                    const long[:, ::1] neighbors,\n",
    "                    double beta,\n",
    "                    const double[:,::1] Js, RndmWrapper rndm): \n",
    "    cdef:\n",
    "        Py_ssize_t site = int(spins.shape[0] * rndm.uniform())\n",
    "        Py_ssize_t site1\n",
    "\n",
    "    cdef long num_neighb = neighbors[site, 0]\n",
    "    cdef double summ = 0.\n",
    "    for j in range(1, num_neighb + 1):\n",
    "        site1 = neighbors[site, j]\n",
    "        summ += spins[site1] * spins[site] * Js[site,site1]\n",
    "   \n",
    "    cdef double ratio = exp(-2.0 * beta * summ )\n",
    "    \n",
    "    if rndm.uniform() > ratio:\n",
    "        return\n",
    "\n",
    "    spins[site] = -spins[site]\n",
    "    \n",
    "    \n",
    "cdef void get_J( double[:,::1] Js, double J, double Jd, int L1, int L2):\n",
    "    \n",
    "    for i in range(L1*L2):\n",
    "        Js[i, ((i // L2 + 1) % L1 * L2 )  + (i + 1) % L2 ] = Jd\n",
    "        Js[i, ((i // L2  - 1) % L1 * L2 )  + (i - 1) % L2 ] = Jd\n",
    "        Js[i, (i // L2) * L2 + (i + 1) % L2] = J \n",
    "        Js[i, (i + L2) % (L1*L2)] = J\n",
    "        Js[i, (i // L2) * L2 + (i - 1) % L2] = J\n",
    "        Js[i, (i - L2) % (L1*L2)] = J\n",
    "    return\n",
    "        \n",
    "\n",
    "def simulate(Py_ssize_t L,\n",
    "             double T, double J, double Jd,\n",
    "             Py_ssize_t num_sweeps, int seed, int rseed = 1234):\n",
    "\n",
    "    cdef:\n",
    "        long[:, ::1] neighbors = tabulate_neighbors(L, kind='triang') \n",
    "        double beta = 1./T\n",
    "\n",
    "    cdef:\n",
    "        \n",
    "        int num_therm = int(1e2 * L * L)\n",
    "        int steps_per_sweep = L * L \n",
    "        int sweep = 0\n",
    "        int i\n",
    "        double Z = 0., magn = 0., av_magn_2=0., av_magn_4 = 0., binder = 0., av_en = 0\n",
    "        \n",
    "    \n",
    "    cdef RndmWrapper rndm = RndmWrapper((rseed, seed))    \n",
    "\n",
    "    cdef long[::1] spins =  np.empty( L*L, dtype=int) \n",
    "    init_spins(spins, rndm)\n",
    "    \n",
    "    cdef double[:,::1] Js = np.zeros((L*L, L*L)) \n",
    "    get_J(Js, J, Jd, L, L)\n",
    "\n",
    "    for sweep in range(num_therm):\n",
    "        for i in range(steps_per_sweep):\n",
    "            flip_spin(spins, neighbors, beta, Js, rndm)\n",
    "\n",
    "    for sweep in range(num_sweeps):\n",
    "        for i in range(steps_per_sweep):\n",
    "            flip_spin(spins, neighbors, beta, Js, rndm)\n",
    "            \n",
    "        Z += 1\n",
    "        magn = 0.\n",
    "        for i in range(L*L):\n",
    "            magn += spins[i]\n",
    "        av_magn_2 += magn**2\n",
    "        av_magn_4 += magn**4\n",
    "        \n",
    "    binder = 1 - (av_magn_4 / Z) / (3 * (av_magn_2 / Z)**2)\n",
    "     \n",
    "    return binder \n",
    "  "
   ]
  },
  {
   "cell_type": "code",
   "execution_count": 5,
   "metadata": {},
   "outputs": [
    {
     "name": "stdout",
     "output_type": "stream",
     "text": [
      "Number of processors:  44\n"
     ]
    }
   ],
   "source": [
    "import multiprocessing as mp\n",
    "print(\"Number of processors: \", mp.cpu_count())"
   ]
  },
  {
   "cell_type": "code",
   "execution_count": 6,
   "metadata": {},
   "outputs": [],
   "source": [
    "from multiprocessing import Pool\n",
    "import os"
   ]
  },
  {
   "cell_type": "code",
   "execution_count": 7,
   "metadata": {},
   "outputs": [],
   "source": [
    "def cums(data):\n",
    "    \n",
    "    Temps = data[0]\n",
    "    Jd = data[1]\n",
    "    T = len(Temps)\n",
    "\n",
    "    b_10 = np.zeros(T)\n",
    "    b_20 = np.zeros(T)\n",
    "    b_40 = np.zeros(T)\n",
    "    \n",
    "    pid = os.getpid()\n",
    "    \n",
    "    for j,t in enumerate(Temps):\n",
    "        b_10[j] = simulate(10,t,1,Jd,int(2e6),pid,j) # меняю rseed. мне кажется, надо менять\n",
    "        b_20[j] = simulate(20,t,1,Jd,int(2e6),pid,j)\n",
    "        b_40[j] = simulate(40,t,1,Jd,int(2e6),pid,j)\n",
    "        print(\"прошло ~\", j*6 + 6, \" минут из 120\")\n",
    "        \n",
    "    return [ b_10, b_20 ,b_40]\n"
   ]
  },
  {
   "cell_type": "markdown",
   "metadata": {},
   "source": [
    "все процессы делают измерения одной и той же величины отдельно. Затем они усредняются"
   ]
  },
  {
   "cell_type": "markdown",
   "metadata": {},
   "source": [
    "Как пользоваться:\n",
    "\n",
    "Temps = np.linspace(2.2, 2.3, 20)\n",
    "Jd = 0\n",
    "\n",
    "pool = Pool(n_process-1)\n",
    "\n",
    "N = 10\n",
    "data = list(zip([Temps]*N, [Jd]*N))\n",
    "\n",
    "res = pool.map(cums, data)\n",
    "res = np.asarray(res)\n",
    "\n",
    "for i in range(N):\n",
    "    binder_10[i] = res[i,0]\n",
    "    binder_20[i] = res[i,1]\n",
    "    binder_40[i] = res[i,2]"
   ]
  },
  {
   "cell_type": "markdown",
   "metadata": {},
   "source": [
    "Найдем область пересечения графиков Binder cumulant для различных размеров решетки.\n",
    "При Jd = 0 она должна включать окрестность Tс =  2.269."
   ]
  },
  {
   "cell_type": "code",
   "execution_count": null,
   "metadata": {},
   "outputs": [],
   "source": [
    "%%time\n",
    "Temps = np.linspace(2.2, 2.3, 20)\n",
    "Jd = 0\n",
    "\n",
    "N = 10\n",
    "T = len(Temps)\n",
    "data = list(zip([Temps]*N, [Jd]*N))\n",
    "\n",
    "pool = Pool(N)\n",
    "\n",
    "res = pool.map(cums, data)\n",
    "res = np.asarray(res)\n",
    "\n",
    "binder_10 = np.zeros((N,T))\n",
    "binder_20 = np.zeros((N,T))\n",
    "binder_40 = np.zeros((N,T))\n",
    "\n",
    "for i in range(N):\n",
    "    binder_10[i] = res[i,0]\n",
    "    binder_20[i] = res[i,1]\n",
    "    binder_40[i] = res[i,2]\n",
    "    \n",
    "pool.close() \n",
    "pool.join() "
   ]
  },
  {
   "cell_type": "code",
   "execution_count": 30,
   "metadata": {},
   "outputs": [],
   "source": [
    "binder10_0 = []\n",
    "binder20_0 = []\n",
    "binder40_0 = []\n",
    "er10_0 = []\n",
    "er20_0 = []\n",
    "er40_0 = []\n",
    "for t in range(T):\n",
    "    binder10_0.append(np.mean( [binder_10[i,t] for i in range(N)] ))\n",
    "    er10_0.append(np.std( [binder_10[i,t] for i in range(N)] ))\n",
    "    \n",
    "    binder20_0.append(np.mean( [binder_20[i,t] for i in range(N)] ))\n",
    "    er20_0.append(np.std( [binder_20[i,t] for i in range(N)] ))\n",
    "    \n",
    "    binder40_0.append(np.mean( [binder_40[i,t] for i in range(N)] ))\n",
    "    er40_0.append(np.std( [binder_40[i,t] for i in range(N)] ))\n",
    "    "
   ]
  },
  {
   "cell_type": "code",
   "execution_count": 36,
   "metadata": {},
   "outputs": [
    {
     "data": {
      "image/png": "[encoded data removed]",
      "text/plain": [
       "<Figure size 432x288 with 1 Axes>"
      ]
     },
     "metadata": {
      "needs_background": "light"
     },
     "output_type": "display_data"
    }
   ],
   "source": [
    "plt.errorbar(Temps, binder10_0, yerr = er10_0, label = '10x10')\n",
    "plt.errorbar(Temps, binder20_0, yerr = er20_0, label = '20x20')\n",
    "plt.errorbar(Temps, binder40_0, yerr = er40_0, label = '40x40')\n",
    "plt.plot([2.269]*20, np.linspace(0.55,0.66,20), c = 'r')\n",
    "plt.legend()\n",
    "\n",
    "plt.xlabel(\"T\")\n",
    "plt.ylabel(\"Binder cumulant\")\n",
    "plt.show()"
   ]
  },
  {
   "cell_type": "markdown",
   "metadata": {},
   "source": [
    "При Jd = -0.1 Tc = 2.105 из уравнения. "
   ]
  },
  {
   "cell_type": "code",
   "execution_count": null,
   "metadata": {},
   "outputs": [],
   "source": [
    "Temps = np.linspace(2.06, 2.14, 20)\n",
    "Jd = -0.1\n",
    "\n",
    "N = 10\n",
    "T = len(Temps)\n",
    "data = list(zip([Temps]*N, [Jd]*N))\n",
    "\n",
    "pool = Pool(N)\n",
    "\n",
    "res = pool.map(cums, data)\n",
    "res = np.asarray(res)\n",
    "\n",
    "binder_10 = np.zeros((N,T))\n",
    "binder_20 = np.zeros((N,T))\n",
    "binder_40 = np.zeros((N,T))\n",
    "\n",
    "for i in range(N):\n",
    "    binder_10[i] = res[i,0]\n",
    "    binder_20[i] = res[i,1]\n",
    "    binder_40[i] = res[i,2]\n",
    "    \n",
    "pool.close() \n",
    "pool.join() "
   ]
  },
  {
   "cell_type": "code",
   "execution_count": 9,
   "metadata": {},
   "outputs": [],
   "source": [
    "binder10_01 = []\n",
    "binder20_01 = []\n",
    "binder40_01 = []\n",
    "er10_01 = []\n",
    "er20_01 = []\n",
    "er40_01 = []\n",
    "for t in range(T):\n",
    "    binder10_01.append(np.mean( [binder_10[i,t] for i in range(N)] ))\n",
    "    er10_01.append(np.std( [binder_10[i,t] for i in range(N)] ))\n",
    "    \n",
    "    binder20_01.append(np.mean( [binder_20[i,t] for i in range(N)] ))\n",
    "    er20_01.append(np.std( [binder_20[i,t] for i in range(N)] ))\n",
    "    \n",
    "    binder40_01.append(np.mean( [binder_40[i,t] for i in range(N)] ))\n",
    "    er40_01.append(np.std( [binder_40[i,t] for i in range(N)] ))\n",
    "    "
   ]
  },
  {
   "cell_type": "code",
   "execution_count": 14,
   "metadata": {},
   "outputs": [
    {
     "data": {
      "image/png": "[encoded data removed]",
      "text/plain": [
       "<Figure size 432x288 with 1 Axes>"
      ]
     },
     "metadata": {
      "needs_background": "light"
     },
     "output_type": "display_data"
    }
   ],
   "source": [
    "plt.errorbar(Temps, binder10_01, yerr = er10_01, label = '10x10')\n",
    "plt.errorbar(Temps, binder20_01, yerr = er20_01, label = '20x20')\n",
    "plt.errorbar(Temps, binder40_01, yerr = er40_01, label = '40x40')\n",
    "plt.plot([2.105]*20, np.linspace(binder40_01[0],binder40_01[-1],20), c = 'r')\n",
    "plt.legend()\n",
    "\n",
    "plt.xlabel(\"T\")\n",
    "plt.ylabel(\"Binder cumulant\")\n",
    "plt.show()"
   ]
  },
  {
   "cell_type": "code",
   "execution_count": 12,
   "metadata": {},
   "outputs": [
    {
     "name": "stdout",
     "output_type": "stream",
     "text": [
      "[0.00036367473204635054, 0.00018221224745596323, 0.0002380119030245667, 0.0003002389593892083, 0.0003935230911994577, 0.00033720131379861727, 0.0004166577591671151, 0.0004419725713979129, 0.000513060448266462, 0.0002548446105527416, 0.0004924511205703515, 0.00040468442651808413, 0.0003676578525800968, 0.0004653154032562086, 0.0006619353496788499, 0.0005067867062648289, 0.0006417355271388508, 0.00037432951367827376, 0.0004441625204302653, 0.0003330975003162161]\n",
      "[0.000491835136829285, 0.0006009311420703133, 0.0005097666526976031, 0.0006069657760883162, 0.0006454335757875373, 0.000724219927261954, 0.0005688162017525059, 0.0006394478199678419, 0.000533289263557345, 0.0007554909534125327, 0.0006822043507705978, 0.0009264631825121899, 0.001061385117889879, 0.0008216245204800283, 0.0012567307819256223, 0.0008389650665179488, 0.0008470471562359551, 0.000942417663011055, 0.0008406421101636624, 0.001145456014348097]\n",
      "[0.0004615255838600283, 0.0006635915847557238, 0.0008975474022416814, 0.0009182307592806245, 0.0008594111311964538, 0.0009183873497030759, 0.00197031824627723, 0.0015300579841328252, 0.0013198238105018563, 0.0012040063650490675, 0.0018027177791430425, 0.0015304274635384934, 0.0012880690942538872, 0.0011830241291182573, 0.0021019094038680205, 0.0021765864691211632, 0.002329830193659407, 0.0032572286148431925, 0.002984040810968574, 0.002620247806007825]\n"
     ]
    }
   ],
   "source": [
    "print(er10_01)\n",
    "print(er20_01)\n",
    "print(er40_01)"
   ]
  },
  {
   "cell_type": "code",
   "execution_count": 15,
   "metadata": {},
   "outputs": [
    {
     "name": "stdout",
     "output_type": "stream",
     "text": [
      "[0.6270740775856353, 0.6261476677906155, 0.6247773295539264, 0.6235369515342075, 0.62206302456095, 0.6210762059759107, 0.6194642785178152, 0.6181052488133127, 0.6167335418603898, 0.6153027425868673, 0.6138182563209986, 0.6122434058501011, 0.6109004749091329, 0.6093656517912629, 0.6075920122404758, 0.605662996960728, 0.6040842862127789, 0.6024237167892149, 0.6007255565924902, 0.5988589894225663]\n",
      "[0.6365157784710936, 0.6346206748687293, 0.632867327389133, 0.6310434771152792, 0.6287164104959524, 0.6265893741928873, 0.6244597726249377, 0.6218221889172572, 0.6189396358815829, 0.6160785580275869, 0.6136905258769494, 0.6103772059434565, 0.6073238970218269, 0.6033180409809031, 0.6000471035069561, 0.5963669710088311, 0.5931211625581916, 0.5897281278888667, 0.5849649912713518, 0.5804819089801272]\n",
      "[0.6498666549762049, 0.6477189917201034, 0.645703772373216, 0.6433740519555413, 0.6405478771914724, 0.6366910107316253, 0.634088007010685, 0.6307208245139978, 0.6251766720661124, 0.6212814667100591, 0.614320026892935, 0.608714363102128, 0.6029679787398947, 0.5950409222256119, 0.5862834224436353, 0.5794547170763873, 0.5693839042592602, 0.5585208185404547, 0.5491642034788757, 0.5372381362601485]\n"
     ]
    }
   ],
   "source": [
    "print(binder10_01)\n",
    "print(binder20_01)\n",
    "print(binder40_01)"
   ]
  },
  {
   "cell_type": "markdown",
   "metadata": {},
   "source": [
    "При Jd = -0.5 Tc = 1.342 "
   ]
  },
  {
   "cell_type": "code",
   "execution_count": null,
   "metadata": {},
   "outputs": [],
   "source": [
    "Temps = np.linspace(1.30, 1.38, 20)\n",
    "Jd = -0.5\n",
    "\n",
    "N = 10\n",
    "T = len(Temps)\n",
    "data = list(zip([Temps]*N, [Jd]*N))\n",
    "\n",
    "pool = Pool(N)\n",
    "\n",
    "res = pool.map(cums, data)\n",
    "res = np.asarray(res)\n",
    "\n",
    "binder_10 = np.zeros((N,T))\n",
    "binder_20 = np.zeros((N,T))\n",
    "binder_40 = np.zeros((N,T))\n",
    "\n",
    "for i in range(N):\n",
    "    binder_10[i] = res[i,0]\n",
    "    binder_20[i] = res[i,1]\n",
    "    binder_40[i] = res[i,2]\n",
    "    \n",
    "pool.close() \n",
    "pool.join() "
   ]
  },
  {
   "cell_type": "code",
   "execution_count": 17,
   "metadata": {},
   "outputs": [],
   "source": [
    "binder10_05 = []\n",
    "binder20_05 = []\n",
    "binder40_05 = []\n",
    "er10_05 = []\n",
    "er20_05 = []\n",
    "er40_05 = []\n",
    "for t in range(T):\n",
    "    binder10_05.append(np.mean( [binder_10[i,t] for i in range(N)] ))\n",
    "    er10_05.append(np.std( [binder_10[i,t] for i in range(N)] ))\n",
    "    \n",
    "    binder20_05.append(np.mean( [binder_20[i,t] for i in range(N)] ))\n",
    "    er20_05.append(np.std( [binder_20[i,t] for i in range(N)] ))\n",
    "    \n",
    "    binder40_05.append(np.mean( [binder_40[i,t] for i in range(N)] ))\n",
    "    er40_05.append(np.std( [binder_40[i,t] for i in range(N)] ))\n",
    "    "
   ]
  },
  {
   "cell_type": "code",
   "execution_count": 21,
   "metadata": {},
   "outputs": [
    {
     "data": {
      "image/png": "[encoded data removed]",
      "text/plain": [
       "<Figure size 432x288 with 1 Axes>"
      ]
     },
     "metadata": {
      "needs_background": "light"
     },
     "output_type": "display_data"
    }
   ],
   "source": [
    "plt.errorbar(Temps, binder10_05, yerr = er10_05, label = '10x10')\n",
    "plt.errorbar(Temps, binder20_05, yerr = er20_05, label = '20x20')\n",
    "plt.errorbar(Temps, binder40_05, yerr = er40_05, label = '40x40')\n",
    "plt.plot([1.342]*20, np.linspace(binder40_05[0],binder40_05[-1],20), c = 'r')\n",
    "plt.legend()\n",
    "\n",
    "plt.xlabel(\"T\")\n",
    "plt.ylabel(\"Binder cumulant\")\n",
    "plt.show()"
   ]
  },
  {
   "cell_type": "code",
   "execution_count": 19,
   "metadata": {},
   "outputs": [
    {
     "name": "stdout",
     "output_type": "stream",
     "text": [
      "[0.0004084557310497146, 0.0002589391748333518, 0.00027913793936716787, 0.00026853377198367864, 0.00045663582650178644, 0.0003837391158046031, 0.0004286823498390162, 0.00026748746454987893, 0.00018688721508982882, 0.00048771051708929486, 0.00043144763594548356, 0.0005802117767018891, 0.0006132499845176705, 0.0005223937890859986, 0.0003861760941808456, 0.0009303934167969898, 0.0007488294871044311, 0.0006037376569057141, 0.0004940295472010143, 0.0005302565265260095]\n",
      "[0.0006287129590041308, 0.00022359597620612648, 0.0007082205956255727, 0.00061507617378989, 0.0008084790154632976, 0.0005076371265430711, 0.0004147789894772624, 0.0007369381963392528, 0.0011884375864886858, 0.0012076101046394623, 0.0007540755106406034, 0.0012253245707151532, 0.001579274866609433, 0.0010271039439734297, 0.0017809898456982226, 0.001416339034962244, 0.001097857407616138, 0.0012634520367503744, 0.0013044665452613255, 0.001957273519018596]\n",
      "[0.00046362291004870346, 0.000789365026595207, 0.0005825237997613868, 0.0006574850785088608, 0.0006863994834765735, 0.00112717715179604, 0.0013740284730360014, 0.0014475667135406061, 0.001802490969754417, 0.002482857985792683, 0.0022886743432458706, 0.0018104222132953151, 0.0022945203620003537, 0.0032581906631281026, 0.003233425709023342, 0.005173017516788698, 0.00426949801909631, 0.003890366795627471, 0.006287246631716944, 0.007095835451384619]\n"
     ]
    }
   ],
   "source": [
    "print(er10_05)\n",
    "print(er20_05)\n",
    "print(er40_05)"
   ]
  },
  {
   "cell_type": "code",
   "execution_count": 20,
   "metadata": {},
   "outputs": [
    {
     "name": "stdout",
     "output_type": "stream",
     "text": [
      "[0.6397877006458312, 0.638233818103306, 0.6368925144851161, 0.6351929516583746, 0.633526990864917, 0.6314267652891463, 0.6298740633798745, 0.6276117573897166, 0.626040076869668, 0.6237646703882366, 0.6215151491959083, 0.6190786862042204, 0.6168842393379903, 0.6146267486736017, 0.6118629923239727, 0.6093028600273949, 0.6062833903839144, 0.6035418010451843, 0.6005640045938205, 0.5975789836091205]\n",
      "[0.64720667432061, 0.6453059794890932, 0.6430133188454843, 0.640520046248764, 0.637734242371305, 0.6347088503728961, 0.6315356274357036, 0.627814287075532, 0.6236604905558519, 0.6191986816721755, 0.6142180352264173, 0.6089174065217252, 0.6041760230795025, 0.598010941023708, 0.5919212906225193, 0.5847663903586993, 0.5775321321007876, 0.5699838739011882, 0.5617225274639497, 0.5525667614414145]\n",
      "[0.6575982448959549, 0.6561947512599782, 0.6544102889227036, 0.652273614825002, 0.6492383620782863, 0.6445624852838718, 0.6411167013392616, 0.6357221004569577, 0.629522673041442, 0.6221812289676313, 0.6107008351810451, 0.6008633481231941, 0.5875591353731642, 0.5736551522429376, 0.5568925029371645, 0.5381475555318247, 0.5173371072992559, 0.49549952762571764, 0.47278544794168076, 0.4470395188264368]\n"
     ]
    }
   ],
   "source": [
    "print(binder10_05)\n",
    "print(binder20_05)\n",
    "print(binder40_05)"
   ]
  }
 ],
 "metadata": {
  "kernelspec": {
   "display_name": "my_env",
   "language": "python",
   "name": "my_env"
  },
  "language_info": {
   "codemirror_mode": {
    "name": "ipython",
    "version": 3
   },
   "file_extension": ".py",
   "mimetype": "text/x-python",
   "name": "python",
   "nbconvert_exporter": "python",
   "pygments_lexer": "ipython3",
   "version": "3.9.2"
  }
 },
 "nbformat": 4,
 "nbformat_minor": 2
}
